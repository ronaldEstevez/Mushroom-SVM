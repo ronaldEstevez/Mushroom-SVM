{
 "metadata": {
  "language_info": {
   "codemirror_mode": {
    "name": "ipython",
    "version": 3
   },
   "file_extension": ".py",
   "mimetype": "text/x-python",
   "name": "python",
   "nbconvert_exporter": "python",
   "pygments_lexer": "ipython3",
   "version": "3.8.2-final"
  },
  "orig_nbformat": 2,
  "kernelspec": {
   "name": "python38264bitd8f3ef187eea49fdb788ec07ab3ef776",
   "display_name": "Python 3.8.2 64-bit",
   "language": "python"
  }
 },
 "nbformat": 4,
 "nbformat_minor": 2,
 "cells": [
  {
   "source": [
    "# SVM Classifcation Determining Whether Mushrooms are Edible or Poisonous"
   ],
   "cell_type": "markdown",
   "metadata": {}
  },
  {
   "source": [
    "## Import libraries and prepare data"
   ],
   "cell_type": "markdown",
   "metadata": {}
  },
  {
   "cell_type": "code",
   "execution_count": null,
   "metadata": {},
   "outputs": [],
   "source": [
    "# START: OWN CODE"
   ]
  },
  {
   "cell_type": "code",
   "execution_count": 1,
   "metadata": {},
   "outputs": [],
   "source": [
    "import pandas as pd\n",
    "import numpy as np\n",
    "from sklearn.model_selection import train_test_split\n",
    "from sklearn.svm import SVC\n",
    "from sklearn.metrics import classification_report, confusion_matrix"
   ]
  },
  {
   "cell_type": "code",
   "execution_count": 2,
   "metadata": {},
   "outputs": [
    {
     "output_type": "execute_result",
     "data": {
      "text/plain": [
       "      class  cap-shape  cap-surface  cap-color  bruises  odor  \\\n",
       "0         0         23           18         13       19    15   \n",
       "1         1         23           18         24       19     0   \n",
       "2         1          1           18         22       19    11   \n",
       "3         0         23           24         22       19    15   \n",
       "4         1         23           18          6        5    13   \n",
       "...     ...        ...          ...        ...      ...   ...   \n",
       "8119      1         10           18         13        5    13   \n",
       "8120      1         23           18         13        5    13   \n",
       "8121      1          5           18         13        5    13   \n",
       "8122      0         10           24         13        5    24   \n",
       "8123      1         23           18         13        5    13   \n",
       "\n",
       "      gill-attachment  gill-spacing  gill-size  gill-color  ...  \\\n",
       "0                   5             2         13          10  ...   \n",
       "1                   5             2          1          10  ...   \n",
       "2                   5             2          1          13  ...   \n",
       "3                   5             2         13          13  ...   \n",
       "4                   5            22          1          10  ...   \n",
       "...               ...           ...        ...         ...  ...   \n",
       "8119                0             2          1          24  ...   \n",
       "8120                0             2          1          24  ...   \n",
       "8121                0             2          1          13  ...   \n",
       "8122                5             2         13           1  ...   \n",
       "8123                0             2          1          24  ...   \n",
       "\n",
       "      stalk-surface-above-ring  stalk-surface-below-ring  \\\n",
       "0                           18                        18   \n",
       "1                           18                        18   \n",
       "2                           18                        18   \n",
       "3                           18                        18   \n",
       "4                           18                        18   \n",
       "...                        ...                       ...   \n",
       "8119                        18                        18   \n",
       "8120                        18                        18   \n",
       "8121                        18                        18   \n",
       "8122                        18                        10   \n",
       "8123                        18                        18   \n",
       "\n",
       "      stalk-color-above-ring  stalk-color-below-ring  veil-color  ring-number  \\\n",
       "0                         22                      22          22           14   \n",
       "1                         22                      22          22           14   \n",
       "2                         22                      22          22           14   \n",
       "3                         22                      22          22           14   \n",
       "4                         22                      22          22           14   \n",
       "...                      ...                     ...         ...          ...   \n",
       "8119                      14                      14          14           14   \n",
       "8120                      14                      14          13           14   \n",
       "8121                      14                      14          14           14   \n",
       "8122                      22                      22          22           14   \n",
       "8123                      14                      14          14           14   \n",
       "\n",
       "      ring-type  spore-print-color  population  habitat  \n",
       "0            15                 10          18       20  \n",
       "1            15                 13          13        6  \n",
       "2            15                 13          13       12  \n",
       "3            15                 10          18       20  \n",
       "4             4                 13           0        6  \n",
       "...         ...                ...         ...      ...  \n",
       "8119         15                  1           2       11  \n",
       "8120         15                  1          21       11  \n",
       "8121         15                  1           2       11  \n",
       "8122          4                 22          21       11  \n",
       "8123         15                 14           2       11  \n",
       "\n",
       "[8124 rows x 21 columns]"
      ],
      "text/html": "<div>\n<style scoped>\n    .dataframe tbody tr th:only-of-type {\n        vertical-align: middle;\n    }\n\n    .dataframe tbody tr th {\n        vertical-align: top;\n    }\n\n    .dataframe thead th {\n        text-align: right;\n    }\n</style>\n<table border=\"1\" class=\"dataframe\">\n  <thead>\n    <tr style=\"text-align: right;\">\n      <th></th>\n      <th>class</th>\n      <th>cap-shape</th>\n      <th>cap-surface</th>\n      <th>cap-color</th>\n      <th>bruises</th>\n      <th>odor</th>\n      <th>gill-attachment</th>\n      <th>gill-spacing</th>\n      <th>gill-size</th>\n      <th>gill-color</th>\n      <th>...</th>\n      <th>stalk-surface-above-ring</th>\n      <th>stalk-surface-below-ring</th>\n      <th>stalk-color-above-ring</th>\n      <th>stalk-color-below-ring</th>\n      <th>veil-color</th>\n      <th>ring-number</th>\n      <th>ring-type</th>\n      <th>spore-print-color</th>\n      <th>population</th>\n      <th>habitat</th>\n    </tr>\n  </thead>\n  <tbody>\n    <tr>\n      <th>0</th>\n      <td>0</td>\n      <td>23</td>\n      <td>18</td>\n      <td>13</td>\n      <td>19</td>\n      <td>15</td>\n      <td>5</td>\n      <td>2</td>\n      <td>13</td>\n      <td>10</td>\n      <td>...</td>\n      <td>18</td>\n      <td>18</td>\n      <td>22</td>\n      <td>22</td>\n      <td>22</td>\n      <td>14</td>\n      <td>15</td>\n      <td>10</td>\n      <td>18</td>\n      <td>20</td>\n    </tr>\n    <tr>\n      <th>1</th>\n      <td>1</td>\n      <td>23</td>\n      <td>18</td>\n      <td>24</td>\n      <td>19</td>\n      <td>0</td>\n      <td>5</td>\n      <td>2</td>\n      <td>1</td>\n      <td>10</td>\n      <td>...</td>\n      <td>18</td>\n      <td>18</td>\n      <td>22</td>\n      <td>22</td>\n      <td>22</td>\n      <td>14</td>\n      <td>15</td>\n      <td>13</td>\n      <td>13</td>\n      <td>6</td>\n    </tr>\n    <tr>\n      <th>2</th>\n      <td>1</td>\n      <td>1</td>\n      <td>18</td>\n      <td>22</td>\n      <td>19</td>\n      <td>11</td>\n      <td>5</td>\n      <td>2</td>\n      <td>1</td>\n      <td>13</td>\n      <td>...</td>\n      <td>18</td>\n      <td>18</td>\n      <td>22</td>\n      <td>22</td>\n      <td>22</td>\n      <td>14</td>\n      <td>15</td>\n      <td>13</td>\n      <td>13</td>\n      <td>12</td>\n    </tr>\n    <tr>\n      <th>3</th>\n      <td>0</td>\n      <td>23</td>\n      <td>24</td>\n      <td>22</td>\n      <td>19</td>\n      <td>15</td>\n      <td>5</td>\n      <td>2</td>\n      <td>13</td>\n      <td>13</td>\n      <td>...</td>\n      <td>18</td>\n      <td>18</td>\n      <td>22</td>\n      <td>22</td>\n      <td>22</td>\n      <td>14</td>\n      <td>15</td>\n      <td>10</td>\n      <td>18</td>\n      <td>20</td>\n    </tr>\n    <tr>\n      <th>4</th>\n      <td>1</td>\n      <td>23</td>\n      <td>18</td>\n      <td>6</td>\n      <td>5</td>\n      <td>13</td>\n      <td>5</td>\n      <td>22</td>\n      <td>1</td>\n      <td>10</td>\n      <td>...</td>\n      <td>18</td>\n      <td>18</td>\n      <td>22</td>\n      <td>22</td>\n      <td>22</td>\n      <td>14</td>\n      <td>4</td>\n      <td>13</td>\n      <td>0</td>\n      <td>6</td>\n    </tr>\n    <tr>\n      <th>...</th>\n      <td>...</td>\n      <td>...</td>\n      <td>...</td>\n      <td>...</td>\n      <td>...</td>\n      <td>...</td>\n      <td>...</td>\n      <td>...</td>\n      <td>...</td>\n      <td>...</td>\n      <td>...</td>\n      <td>...</td>\n      <td>...</td>\n      <td>...</td>\n      <td>...</td>\n      <td>...</td>\n      <td>...</td>\n      <td>...</td>\n      <td>...</td>\n      <td>...</td>\n      <td>...</td>\n    </tr>\n    <tr>\n      <th>8119</th>\n      <td>1</td>\n      <td>10</td>\n      <td>18</td>\n      <td>13</td>\n      <td>5</td>\n      <td>13</td>\n      <td>0</td>\n      <td>2</td>\n      <td>1</td>\n      <td>24</td>\n      <td>...</td>\n      <td>18</td>\n      <td>18</td>\n      <td>14</td>\n      <td>14</td>\n      <td>14</td>\n      <td>14</td>\n      <td>15</td>\n      <td>1</td>\n      <td>2</td>\n      <td>11</td>\n    </tr>\n    <tr>\n      <th>8120</th>\n      <td>1</td>\n      <td>23</td>\n      <td>18</td>\n      <td>13</td>\n      <td>5</td>\n      <td>13</td>\n      <td>0</td>\n      <td>2</td>\n      <td>1</td>\n      <td>24</td>\n      <td>...</td>\n      <td>18</td>\n      <td>18</td>\n      <td>14</td>\n      <td>14</td>\n      <td>13</td>\n      <td>14</td>\n      <td>15</td>\n      <td>1</td>\n      <td>21</td>\n      <td>11</td>\n    </tr>\n    <tr>\n      <th>8121</th>\n      <td>1</td>\n      <td>5</td>\n      <td>18</td>\n      <td>13</td>\n      <td>5</td>\n      <td>13</td>\n      <td>0</td>\n      <td>2</td>\n      <td>1</td>\n      <td>13</td>\n      <td>...</td>\n      <td>18</td>\n      <td>18</td>\n      <td>14</td>\n      <td>14</td>\n      <td>14</td>\n      <td>14</td>\n      <td>15</td>\n      <td>1</td>\n      <td>2</td>\n      <td>11</td>\n    </tr>\n    <tr>\n      <th>8122</th>\n      <td>0</td>\n      <td>10</td>\n      <td>24</td>\n      <td>13</td>\n      <td>5</td>\n      <td>24</td>\n      <td>5</td>\n      <td>2</td>\n      <td>13</td>\n      <td>1</td>\n      <td>...</td>\n      <td>18</td>\n      <td>10</td>\n      <td>22</td>\n      <td>22</td>\n      <td>22</td>\n      <td>14</td>\n      <td>4</td>\n      <td>22</td>\n      <td>21</td>\n      <td>11</td>\n    </tr>\n    <tr>\n      <th>8123</th>\n      <td>1</td>\n      <td>23</td>\n      <td>18</td>\n      <td>13</td>\n      <td>5</td>\n      <td>13</td>\n      <td>0</td>\n      <td>2</td>\n      <td>1</td>\n      <td>24</td>\n      <td>...</td>\n      <td>18</td>\n      <td>18</td>\n      <td>14</td>\n      <td>14</td>\n      <td>14</td>\n      <td>14</td>\n      <td>15</td>\n      <td>14</td>\n      <td>2</td>\n      <td>11</td>\n    </tr>\n  </tbody>\n</table>\n<p>8124 rows × 21 columns</p>\n</div>"
     },
     "metadata": {},
     "execution_count": 2
    }
   ],
   "source": [
    "data = pd.read_csv('mushrooms.csv')\n",
    "data.drop(['stalk-root', 'veil-type'], axis=1, inplace=True) # drop column with null values\n",
    "data = data.applymap(lambda x : (ord(x)-ord('a'))) # encode character values as it's unicode value minus unicode value of 'a'\n",
    "data['class'] = data['class'].map({15:0, 4: 1}) # assign poisonous lable as 0 and edible lable as 1\n",
    "\n",
    "data # preview data"
   ]
  },
  {
   "cell_type": "code",
   "execution_count": 3,
   "metadata": {},
   "outputs": [],
   "source": [
    "# split data into labels and features\n",
    "labels = data['class']\n",
    "features = data.drop('class', axis=1)"
   ]
  },
  {
   "source": [
    "## Perform SVM with all features"
   ],
   "cell_type": "markdown",
   "metadata": {}
  },
  {
   "cell_type": "code",
   "execution_count": 4,
   "metadata": {},
   "outputs": [],
   "source": [
    "# 80/20 split of data into training and testing data\n",
    "train_features, test_features, train_labels, test_labels = train_test_split(features, labels, test_size = 0.20)"
   ]
  },
  {
   "source": [
    "### Linear SVM"
   ],
   "cell_type": "markdown",
   "metadata": {}
  },
  {
   "cell_type": "code",
   "execution_count": 5,
   "metadata": {},
   "outputs": [
    {
     "output_type": "stream",
     "name": "stdout",
     "text": [
      "Prediction Error: 0.9581538461538461\nConfusion Matrix:\n[[785  29]\n [ 39 772]]\nClassification Report:\n               precision    recall  f1-score   support\n\n           0       0.95      0.96      0.96       814\n           1       0.96      0.95      0.96       811\n\n    accuracy                           0.96      1625\n   macro avg       0.96      0.96      0.96      1625\nweighted avg       0.96      0.96      0.96      1625\n\n"
     ]
    }
   ],
   "source": [
    "lin_all = SVC(kernel='linear')\n",
    "lin_all.fit(train_features, train_labels)\n",
    "\n",
    "label_pred = lin_all.predict(test_features)\n",
    "\n",
    "c = confusion_matrix(test_labels, label_pred)\n",
    "accuracy = (c[0][0]+c[1][1])/np.sum(c)\n",
    "\n",
    "print(f'Prediction Error: {accuracy}')\n",
    "print(f'Confusion Matrix:\\n{c}')\n",
    "print(f'Classification Report:\\n {classification_report(test_labels, label_pred)}')"
   ]
  },
  {
   "source": [
    "### SVM with Quadratic Polynomial Kernel"
   ],
   "cell_type": "markdown",
   "metadata": {}
  },
  {
   "cell_type": "code",
   "execution_count": 6,
   "metadata": {},
   "outputs": [
    {
     "output_type": "stream",
     "name": "stdout",
     "text": [
      "Prediction Error: 0.9975384615384615\nConfusion Matrix:\n[[811   3]\n [  1 810]]\nClassification Report:\n               precision    recall  f1-score   support\n\n           0       1.00      1.00      1.00       814\n           1       1.00      1.00      1.00       811\n\n    accuracy                           1.00      1625\n   macro avg       1.00      1.00      1.00      1625\nweighted avg       1.00      1.00      1.00      1625\n\n"
     ]
    }
   ],
   "source": [
    "quad_all = SVC(kernel='poly',degree=2)\n",
    "quad_all.fit(train_features, train_labels)\n",
    "\n",
    "label_pred = quad_all.predict(test_features)\n",
    "\n",
    "c = confusion_matrix(test_labels, label_pred)\n",
    "accuracy = (c[0][0]+c[1][1])/np.sum(c)\n",
    "\n",
    "print(f'Prediction Error: {accuracy}')\n",
    "print(f'Confusion Matrix:\\n{c}')\n",
    "print(f'Classification Report:\\n {classification_report(test_labels, label_pred)}')"
   ]
  },
  {
   "source": [
    "### SVM with Cubic Polynomial Kernel"
   ],
   "cell_type": "markdown",
   "metadata": {}
  },
  {
   "cell_type": "code",
   "execution_count": 7,
   "metadata": {},
   "outputs": [
    {
     "output_type": "stream",
     "name": "stdout",
     "text": [
      "Prediction Error: 1.0\n",
      "Confusion Matrix:\n",
      "[[814   0]\n",
      " [  0 811]]\n",
      "Classification Report:\n",
      "               precision    recall  f1-score   support\n",
      "\n",
      "           0       1.00      1.00      1.00       814\n",
      "           1       1.00      1.00      1.00       811\n",
      "\n",
      "    accuracy                           1.00      1625\n",
      "   macro avg       1.00      1.00      1.00      1625\n",
      "weighted avg       1.00      1.00      1.00      1625\n",
      "\n"
     ]
    }
   ],
   "source": [
    "cub_all = SVC(kernel='poly',degree=3)\n",
    "cub_all.fit(train_features, train_labels)\n",
    "\n",
    "label_pred = cub_all.predict(test_features)\n",
    "\n",
    "c = confusion_matrix(test_labels, label_pred)\n",
    "accuracy = (c[0][0]+c[1][1])/np.sum(c)\n",
    "\n",
    "print(f'Prediction Error: {accuracy}')\n",
    "print(f'Confusion Matrix:\\n{c}')\n",
    "print(f'Classification Report:\\n {classification_report(test_labels, label_pred)}')"
   ]
  },
  {
   "source": [
    "### SVM with Radial Basis Function (RBF) Kernel"
   ],
   "cell_type": "markdown",
   "metadata": {}
  },
  {
   "cell_type": "code",
   "execution_count": 8,
   "metadata": {},
   "outputs": [
    {
     "output_type": "stream",
     "name": "stdout",
     "text": [
      "Prediction Error: 0.9975384615384615\nConfusion Matrix:\n[[814   0]\n [  4 807]]\nClassification Report:\n               precision    recall  f1-score   support\n\n           0       1.00      1.00      1.00       814\n           1       1.00      1.00      1.00       811\n\n    accuracy                           1.00      1625\n   macro avg       1.00      1.00      1.00      1625\nweighted avg       1.00      1.00      1.00      1625\n\n"
     ]
    }
   ],
   "source": [
    "rbf_all = SVC(kernel='rbf')\n",
    "rbf_all.fit(train_features, train_labels)\n",
    "\n",
    "label_pred = rbf_all.predict(test_features)\n",
    "\n",
    "c = confusion_matrix(test_labels, label_pred)\n",
    "accuracy = (c[0][0]+c[1][1])/np.sum(c)\n",
    "\n",
    "print(f'Prediction Error: {accuracy}')\n",
    "print(f'Confusion Matrix:\\n{c}')\n",
    "print(f'Classification Report:\\n {classification_report(test_labels, label_pred)}')"
   ]
  },
  {
   "source": [
    "## Greedy Foward Feature Selection (with RBF kernel)"
   ],
   "cell_type": "markdown",
   "metadata": {}
  },
  {
   "source": [
    "### Define function to perform greedy foward feature selection"
   ],
   "cell_type": "markdown",
   "metadata": {}
  },
  {
   "cell_type": "code",
   "execution_count": 9,
   "metadata": {},
   "outputs": [],
   "source": [
    "def greedy_forward(data=data, labels=labels, features=features):\n",
    "    attributes = features.columns\n",
    "    selected = []\n",
    "    min_error = (2.0, None)\n",
    "    last_min_error = (1.0, None)\n",
    "\n",
    "    # split data into training and test\n",
    "    train_features, test_features, train_labels, test_labels = train_test_split(features, labels, test_size = 0.20)\n",
    "    while last_min_error[0] < min_error[0] or len(attributes) == 0: # still improving\n",
    "        # compute error of SVM of selected + feat\n",
    "        # add min error to selected IFF it reduces total error\n",
    "        min_error = last_min_error\n",
    "        for attr in attributes:\n",
    "            temp = selected + [attr]\n",
    "            classifier = SVC(kernel='rbf')\n",
    "            classifier.fit(train_features[temp], train_labels)\n",
    "\n",
    "            label_pred = classifier.predict(test_features[temp])\n",
    "\n",
    "            c = confusion_matrix(test_labels, label_pred)\n",
    "            error = (c[0][1]+c[1][0])/np.sum(c)\n",
    "            \n",
    "            if error < last_min_error[0]:\n",
    "                last_min_error = (error, attr) \n",
    "            \n",
    "        # add to selected\n",
    "        if last_min_error[0] < min_error[0]:\n",
    "            selected.append(last_min_error[1])\n",
    "            attributes.drop(last_min_error[1])\n",
    "\n",
    "    return selected"
   ]
  },
  {
   "source": [
    "### Show results of a single greedy foward feature selection"
   ],
   "cell_type": "markdown",
   "metadata": {}
  },
  {
   "cell_type": "code",
   "execution_count": 10,
   "metadata": {},
   "outputs": [
    {
     "output_type": "execute_result",
     "data": {
      "text/plain": [
       "['odor',\n",
       " 'spore-print-color',\n",
       " 'habitat',\n",
       " 'bruises',\n",
       " 'stalk-surface-above-ring',\n",
       " 'gill-spacing']"
      ]
     },
     "metadata": {},
     "execution_count": 10
    }
   ],
   "source": [
    "greedy_attributes = greedy_forward()\n",
    "\n",
    "greedy_attributes"
   ]
  },
  {
   "source": [
    "### Perform same SVM classifiers as before with greedily selected features"
   ],
   "cell_type": "markdown",
   "metadata": {}
  },
  {
   "cell_type": "code",
   "execution_count": 11,
   "metadata": {},
   "outputs": [],
   "source": [
    "# separate greedily selected features\n",
    "greedy_features = data[greedy_attributes]"
   ]
  },
  {
   "source": [
    "### Linear SVM"
   ],
   "cell_type": "markdown",
   "metadata": {}
  },
  {
   "cell_type": "code",
   "execution_count": 12,
   "metadata": {},
   "outputs": [
    {
     "output_type": "stream",
     "name": "stdout",
     "text": [
      "Mean Accuracy: 0.8830153846153846\nStandard Deviation of Accuracy: 0.007319973485902772\n\n"
     ]
    }
   ],
   "source": [
    "greedy_linear_res = []\n",
    "for _ in range(10):\n",
    "    train_features, test_features, train_labels, test_labels = train_test_split(greedy_features, labels, test_size = 0.20)\n",
    "    greedy_linear = SVC(kernel='linear')\n",
    "    greedy_linear.fit(train_features, train_labels)\n",
    "\n",
    "    label_pred = greedy_linear.predict(test_features)\n",
    "\n",
    "    c = confusion_matrix(test_labels, label_pred)\n",
    "    accuracy = (c[0][0]+c[1][1])/np.sum(c)\n",
    "    greedy_linear_res.append(accuracy)\n",
    "\n",
    "print(f'Mean Accuracy: {np.mean(greedy_linear_res)}')\n",
    "print(f'Standard Deviation of Accuracy: {np.std(greedy_linear_res)}\\n')\n"
   ]
  },
  {
   "source": [
    "### SVM with Quadratic Polynomial Kernel"
   ],
   "cell_type": "markdown",
   "metadata": {}
  },
  {
   "cell_type": "code",
   "execution_count": 13,
   "metadata": {},
   "outputs": [
    {
     "output_type": "stream",
     "name": "stdout",
     "text": [
      "Mean Accuracy: 0.9630769230769232\nStandard Deviation of Accuracy: 0.006650710688544639\n\n"
     ]
    }
   ],
   "source": [
    "greedy_quad_res = []\n",
    "for _ in range(10):\n",
    "    train_features, test_features, train_labels, test_labels = train_test_split(greedy_features, labels, test_size = 0.20)\n",
    "    greedy_quad = SVC(kernel='poly', degree=2)\n",
    "    greedy_quad.fit(train_features, train_labels)\n",
    "\n",
    "    label_pred = greedy_quad.predict(test_features)\n",
    "\n",
    "    c = confusion_matrix(test_labels, label_pred)\n",
    "    accuracy = (c[0][0]+c[1][1])/np.sum(c)\n",
    "    greedy_quad_res.append(accuracy)\n",
    "\n",
    "print(f'Mean Accuracy: {np.mean(greedy_quad_res)}')\n",
    "print(f'Standard Deviation of Accuracy: {np.std(greedy_quad_res)}\\n')\n"
   ]
  },
  {
   "source": [
    "### SVM with Cubic Polynomial Kernel"
   ],
   "cell_type": "markdown",
   "metadata": {}
  },
  {
   "cell_type": "code",
   "execution_count": 14,
   "metadata": {},
   "outputs": [
    {
     "output_type": "stream",
     "name": "stdout",
     "text": [
      "Mean Accuracy: 0.9915692307692308\nStandard Deviation of Accuracy: 0.0016523965024120063\n\n"
     ]
    }
   ],
   "source": [
    "greedy_cub_res = []\n",
    "for _ in range(10):\n",
    "    train_features, test_features, train_labels, test_labels = train_test_split(greedy_features, labels, test_size = 0.20)\n",
    "    greedy_cub = SVC(kernel='poly', degree=3)\n",
    "    greedy_cub.fit(train_features, train_labels)\n",
    "\n",
    "    label_pred = greedy_cub.predict(test_features)\n",
    "\n",
    "    c = confusion_matrix(test_labels, label_pred)\n",
    "    accuracy = (c[0][0]+c[1][1])/np.sum(c)\n",
    "    greedy_cub_res.append(accuracy)\n",
    "\n",
    "print(f'Mean Accuracy: {np.mean(greedy_cub_res)}')\n",
    "print(f'Standard Deviation of Accuracy: {np.std(greedy_cub_res)}\\n')\n"
   ]
  },
  {
   "source": [
    "### SVM with RBF Kernel"
   ],
   "cell_type": "markdown",
   "metadata": {}
  },
  {
   "cell_type": "code",
   "execution_count": 15,
   "metadata": {},
   "outputs": [
    {
     "output_type": "stream",
     "name": "stdout",
     "text": [
      "Mean Accuracy: 0.9962276923076923\nStandard Deviation of Accuracy: 0.003508939049689784\n\n"
     ]
    }
   ],
   "source": [
    "greedy_rbf_res = []\n",
    "for _ in range(100):\n",
    "    train_features, test_features, train_labels, test_labels = train_test_split(greedy_features, labels, test_size = 0.20)\n",
    "    greedy_rbf = SVC(kernel='rbf')\n",
    "    greedy_rbf.fit(train_features, train_labels)\n",
    "\n",
    "    label_pred = greedy_rbf.predict(test_features)\n",
    "\n",
    "    c = confusion_matrix(test_labels, label_pred)\n",
    "    accuracy = (c[0][0]+c[1][1])/np.sum(c)\n",
    "    greedy_rbf_res.append(accuracy)\n",
    "\n",
    "print(f'Mean Accuracy: {np.mean(greedy_rbf_res)}')\n",
    "print(f'Standard Deviation of Accuracy: {np.std(greedy_rbf_res)}\\n')\n"
   ]
  },
  {
   "source": [
    "## Sigmoid Kernel"
   ],
   "cell_type": "markdown",
   "metadata": {}
  },
  {
   "source": [
    "### Sigmoid Kernel on All Features"
   ],
   "cell_type": "markdown",
   "metadata": {}
  },
  {
   "cell_type": "code",
   "execution_count": 16,
   "metadata": {},
   "outputs": [
    {
     "output_type": "stream",
     "name": "stdout",
     "text": [
      "Mean Accuracy: 0.5605538461538462\nStandard Deviation of Accuracy: 0.12923412449856753\n\n"
     ]
    }
   ],
   "source": [
    "sigmoid_res = []\n",
    "for _ in range(10):\n",
    "    train_features, test_features, train_labels, test_labels = train_test_split(features, labels, test_size = 0.20)\n",
    "    sigmoid = SVC(kernel='sigmoid')\n",
    "    sigmoid.fit(train_features, train_labels)\n",
    "\n",
    "    label_pred = sigmoid.predict(test_features)\n",
    "\n",
    "    c = confusion_matrix(test_labels, label_pred)\n",
    "    accuracy = (c[0][0]+c[1][1])/np.sum(c)\n",
    "    sigmoid_res.append(accuracy)\n",
    "\n",
    "print(f'Mean Accuracy: {np.mean(sigmoid_res)}')\n",
    "print(f'Standard Deviation of Accuracy: {np.std(sigmoid_res)}\\n')\n"
   ]
  },
  {
   "source": [
    "### Sigmoid Kernel on Greedily Chosen Features"
   ],
   "cell_type": "markdown",
   "metadata": {}
  },
  {
   "cell_type": "code",
   "execution_count": 17,
   "metadata": {},
   "outputs": [
    {
     "output_type": "stream",
     "name": "stdout",
     "text": [
      "Mean Accuracy: 0.5345846153846154\nStandard Deviation of Accuracy: 0.13630708108909673\n\n"
     ]
    }
   ],
   "source": [
    "greedy_sigmoid_res = []\n",
    "for _ in range(10):\n",
    "    train_features, test_features, train_labels, test_labels = train_test_split(greedy_features, labels, test_size = 0.20)\n",
    "    greedy_sigmoid = SVC(kernel='sigmoid')\n",
    "    greedy_sigmoid.fit(train_features, train_labels)\n",
    "\n",
    "    label_pred = greedy_sigmoid.predict(test_features)\n",
    "\n",
    "    c = confusion_matrix(test_labels, label_pred)\n",
    "    accuracy = (c[0][0]+c[1][1])/np.sum(c)\n",
    "    greedy_sigmoid_res.append(accuracy)\n",
    "\n",
    "print(f'Mean Accuracy: {np.mean(greedy_sigmoid_res)}')\n",
    "print(f'Standard Deviation of Accuracy: {np.std(greedy_sigmoid_res)}\\n')\n"
   ]
  },
  {
   "cell_type": "code",
   "execution_count": 18,
   "metadata": {},
   "outputs": [
    {
     "output_type": "execute_result",
     "data": {
      "text/plain": [
       "   cap-shape  cap-surface  cap-color  bruises      odor  gill-attachment  \\\n",
       "0        1.0     0.684211   0.521739      1.0  0.625000              1.0   \n",
       "1        1.0     0.684211   1.000000      1.0  0.000000              1.0   \n",
       "2        0.0     0.684211   0.913043      1.0  0.458333              1.0   \n",
       "3        1.0     1.000000   0.913043      1.0  0.625000              1.0   \n",
       "4        1.0     0.684211   0.217391      0.0  0.541667              1.0   \n",
       "\n",
       "   gill-spacing  gill-size  gill-color  stalk-shape  stalk-surface-above-ring  \\\n",
       "0           0.0        1.0    0.391304          0.0                  0.684211   \n",
       "1           0.0        0.0    0.391304          0.0                  0.684211   \n",
       "2           0.0        0.0    0.521739          0.0                  0.684211   \n",
       "3           0.0        1.0    0.521739          0.0                  0.684211   \n",
       "4           1.0        0.0    0.391304          1.0                  0.684211   \n",
       "\n",
       "   stalk-surface-below-ring  stalk-color-above-ring  stalk-color-below-ring  \\\n",
       "0                  0.684211                0.913043                0.913043   \n",
       "1                  0.684211                0.913043                0.913043   \n",
       "2                  0.684211                0.913043                0.913043   \n",
       "3                  0.684211                0.913043                0.913043   \n",
       "4                  0.684211                0.913043                0.913043   \n",
       "\n",
       "   veil-color  ring-number  ring-type  spore-print-color  population   habitat  \n",
       "0    0.818182     0.166667        1.0           0.391304    0.750000  0.894737  \n",
       "1    0.818182     0.166667        1.0           0.521739    0.541667  0.157895  \n",
       "2    0.818182     0.166667        1.0           0.521739    0.541667  0.473684  \n",
       "3    0.818182     0.166667        1.0           0.391304    0.750000  0.894737  \n",
       "4    0.818182     0.166667        0.0           0.521739    0.000000  0.157895  "
      ],
      "text/html": "<div>\n<style scoped>\n    .dataframe tbody tr th:only-of-type {\n        vertical-align: middle;\n    }\n\n    .dataframe tbody tr th {\n        vertical-align: top;\n    }\n\n    .dataframe thead th {\n        text-align: right;\n    }\n</style>\n<table border=\"1\" class=\"dataframe\">\n  <thead>\n    <tr style=\"text-align: right;\">\n      <th></th>\n      <th>cap-shape</th>\n      <th>cap-surface</th>\n      <th>cap-color</th>\n      <th>bruises</th>\n      <th>odor</th>\n      <th>gill-attachment</th>\n      <th>gill-spacing</th>\n      <th>gill-size</th>\n      <th>gill-color</th>\n      <th>stalk-shape</th>\n      <th>stalk-surface-above-ring</th>\n      <th>stalk-surface-below-ring</th>\n      <th>stalk-color-above-ring</th>\n      <th>stalk-color-below-ring</th>\n      <th>veil-color</th>\n      <th>ring-number</th>\n      <th>ring-type</th>\n      <th>spore-print-color</th>\n      <th>population</th>\n      <th>habitat</th>\n    </tr>\n  </thead>\n  <tbody>\n    <tr>\n      <th>0</th>\n      <td>1.0</td>\n      <td>0.684211</td>\n      <td>0.521739</td>\n      <td>1.0</td>\n      <td>0.625000</td>\n      <td>1.0</td>\n      <td>0.0</td>\n      <td>1.0</td>\n      <td>0.391304</td>\n      <td>0.0</td>\n      <td>0.684211</td>\n      <td>0.684211</td>\n      <td>0.913043</td>\n      <td>0.913043</td>\n      <td>0.818182</td>\n      <td>0.166667</td>\n      <td>1.0</td>\n      <td>0.391304</td>\n      <td>0.750000</td>\n      <td>0.894737</td>\n    </tr>\n    <tr>\n      <th>1</th>\n      <td>1.0</td>\n      <td>0.684211</td>\n      <td>1.000000</td>\n      <td>1.0</td>\n      <td>0.000000</td>\n      <td>1.0</td>\n      <td>0.0</td>\n      <td>0.0</td>\n      <td>0.391304</td>\n      <td>0.0</td>\n      <td>0.684211</td>\n      <td>0.684211</td>\n      <td>0.913043</td>\n      <td>0.913043</td>\n      <td>0.818182</td>\n      <td>0.166667</td>\n      <td>1.0</td>\n      <td>0.521739</td>\n      <td>0.541667</td>\n      <td>0.157895</td>\n    </tr>\n    <tr>\n      <th>2</th>\n      <td>0.0</td>\n      <td>0.684211</td>\n      <td>0.913043</td>\n      <td>1.0</td>\n      <td>0.458333</td>\n      <td>1.0</td>\n      <td>0.0</td>\n      <td>0.0</td>\n      <td>0.521739</td>\n      <td>0.0</td>\n      <td>0.684211</td>\n      <td>0.684211</td>\n      <td>0.913043</td>\n      <td>0.913043</td>\n      <td>0.818182</td>\n      <td>0.166667</td>\n      <td>1.0</td>\n      <td>0.521739</td>\n      <td>0.541667</td>\n      <td>0.473684</td>\n    </tr>\n    <tr>\n      <th>3</th>\n      <td>1.0</td>\n      <td>1.000000</td>\n      <td>0.913043</td>\n      <td>1.0</td>\n      <td>0.625000</td>\n      <td>1.0</td>\n      <td>0.0</td>\n      <td>1.0</td>\n      <td>0.521739</td>\n      <td>0.0</td>\n      <td>0.684211</td>\n      <td>0.684211</td>\n      <td>0.913043</td>\n      <td>0.913043</td>\n      <td>0.818182</td>\n      <td>0.166667</td>\n      <td>1.0</td>\n      <td>0.391304</td>\n      <td>0.750000</td>\n      <td>0.894737</td>\n    </tr>\n    <tr>\n      <th>4</th>\n      <td>1.0</td>\n      <td>0.684211</td>\n      <td>0.217391</td>\n      <td>0.0</td>\n      <td>0.541667</td>\n      <td>1.0</td>\n      <td>1.0</td>\n      <td>0.0</td>\n      <td>0.391304</td>\n      <td>1.0</td>\n      <td>0.684211</td>\n      <td>0.684211</td>\n      <td>0.913043</td>\n      <td>0.913043</td>\n      <td>0.818182</td>\n      <td>0.166667</td>\n      <td>0.0</td>\n      <td>0.521739</td>\n      <td>0.000000</td>\n      <td>0.157895</td>\n    </tr>\n  </tbody>\n</table>\n</div>"
     },
     "metadata": {},
     "execution_count": 18
    }
   ],
   "source": [
    "norm_features = (features - features.min()) / (features.max() - features.min())\n",
    "\n",
    "norm_features.head()"
   ]
  },
  {
   "cell_type": "code",
   "execution_count": 19,
   "metadata": {},
   "outputs": [
    {
     "output_type": "stream",
     "name": "stdout",
     "text": [
      "Mean Accuracy: 0.5124923076923077\nStandard Deviation of Accuracy: 0.010792239157630954\n\n"
     ]
    }
   ],
   "source": [
    "sigmoid_res = []\n",
    "for _ in range(10):\n",
    "    train_features, test_features, train_labels, test_labels = train_test_split(norm_features, labels, test_size = 0.20)\n",
    "    sigmoid = SVC(kernel='sigmoid')\n",
    "    sigmoid.fit(train_features, train_labels)\n",
    "\n",
    "    label_pred = sigmoid.predict(test_features)\n",
    "\n",
    "    c = confusion_matrix(test_labels, label_pred)\n",
    "    accuracy = (c[0][0]+c[1][1])/np.sum(c)\n",
    "    sigmoid_res.append(accuracy)\n",
    "\n",
    "print(f'Mean Accuracy: {np.mean(sigmoid_res)}')\n",
    "print(f'Standard Deviation of Accuracy: {np.std(sigmoid_res)}\\n')\n"
   ]
  },
  {
   "cell_type": "code",
   "execution_count": 20,
   "metadata": {},
   "outputs": [
    {
     "output_type": "stream",
     "name": "stdout",
     "text": [
      "Mean Accuracy: 0.6968\nStandard Deviation of Accuracy: 0.02374467738551129\n\n"
     ]
    }
   ],
   "source": [
    "greedy_sigmoid_res = []\n",
    "for _ in range(10):\n",
    "    train_features, test_features, train_labels, test_labels = train_test_split(norm_features[greedy_attributes], labels, test_size = 0.20)\n",
    "    greedy_sigmoid = SVC(kernel='sigmoid')\n",
    "    greedy_sigmoid.fit(train_features, train_labels)\n",
    "\n",
    "    label_pred = greedy_sigmoid.predict(test_features)\n",
    "\n",
    "    c = confusion_matrix(test_labels, label_pred)\n",
    "    accuracy = (c[0][0]+c[1][1])/np.sum(c)\n",
    "    greedy_sigmoid_res.append(accuracy)\n",
    "\n",
    "print(f'Mean Accuracy: {np.mean(greedy_sigmoid_res)}')\n",
    "print(f'Standard Deviation of Accuracy: {np.std(greedy_sigmoid_res)}\\n')"
   ]
  },
  {
   "cell_type": "code",
   "execution_count": null,
   "metadata": {},
   "outputs": [],
   "source": [
    "# END: OWN CODE"
   ]
  }
 ]
}