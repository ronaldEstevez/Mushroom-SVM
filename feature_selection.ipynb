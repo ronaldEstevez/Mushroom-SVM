{
 "metadata": {
  "language_info": {
   "codemirror_mode": {
    "name": "ipython",
    "version": 3
   },
   "file_extension": ".py",
   "mimetype": "text/x-python",
   "name": "python",
   "nbconvert_exporter": "python",
   "pygments_lexer": "ipython3",
   "version": "3.8.2-final"
  },
  "orig_nbformat": 2,
  "kernelspec": {
   "name": "python38264bitd8f3ef187eea49fdb788ec07ab3ef776",
   "display_name": "Python 3.8.2 64-bit",
   "language": "python"
  }
 },
 "nbformat": 4,
 "nbformat_minor": 2,
 "cells": [
  {
   "cell_type": "code",
   "execution_count": 1,
   "metadata": {},
   "outputs": [],
   "source": [
    "import pandas as pd\n",
    "import numpy as np"
   ]
  },
  {
   "cell_type": "code",
   "execution_count": 2,
   "metadata": {},
   "outputs": [
    {
     "output_type": "execute_result",
     "data": {
      "text/plain": [
       "     class cap-shape cap-surface cap-color bruises odor gill-attachment  \\\n",
       "0        p         x           s         n       t    p               f   \n",
       "1        e         x           s         y       t    a               f   \n",
       "2        e         b           s         w       t    l               f   \n",
       "3        p         x           y         w       t    p               f   \n",
       "4        e         x           s         g       f    n               f   \n",
       "...    ...       ...         ...       ...     ...  ...             ...   \n",
       "7986     e         b           y         n       f    n               f   \n",
       "8001     e         x           y         n       f    n               f   \n",
       "8038     e         x           y         g       t    n               f   \n",
       "8095     p         x           y         c       f    m               f   \n",
       "8114     p         f           y         c       f    m               a   \n",
       "\n",
       "     gill-spacing gill-size gill-color  ... stalk-surface-below-ring  \\\n",
       "0               c         n          k  ...                        s   \n",
       "1               c         b          k  ...                        s   \n",
       "2               c         b          n  ...                        s   \n",
       "3               c         n          n  ...                        s   \n",
       "4               w         b          k  ...                        s   \n",
       "...           ...       ...        ...  ...                      ...   \n",
       "7986            c         b          w  ...                        y   \n",
       "8001            c         b          w  ...                        y   \n",
       "8038            c         b          w  ...                        s   \n",
       "8095            c         b          y  ...                        y   \n",
       "8114            c         b          y  ...                        y   \n",
       "\n",
       "     stalk-color-above-ring stalk-color-below-ring veil-type veil-color  \\\n",
       "0                         w                      w         p          w   \n",
       "1                         w                      w         p          w   \n",
       "2                         w                      w         p          w   \n",
       "3                         w                      w         p          w   \n",
       "4                         w                      w         p          w   \n",
       "...                     ...                    ...       ...        ...   \n",
       "7986                      n                      n         p          w   \n",
       "8001                      n                      n         p          w   \n",
       "8038                      w                      w         p          w   \n",
       "8095                      c                      c         p          w   \n",
       "8114                      c                      c         p          w   \n",
       "\n",
       "     ring-number ring-type spore-print-color population habitat  \n",
       "0              o         p                 k          s       u  \n",
       "1              o         p                 n          n       g  \n",
       "2              o         p                 n          n       m  \n",
       "3              o         p                 k          s       u  \n",
       "4              o         e                 n          a       g  \n",
       "...          ...       ...               ...        ...     ...  \n",
       "7986           t         p                 w          y       p  \n",
       "8001           t         p                 w          y       p  \n",
       "8038           t         p                 w          y       p  \n",
       "8095           n         n                 w          c       d  \n",
       "8114           n         n                 w          c       d  \n",
       "\n",
       "[5644 rows x 23 columns]"
      ],
      "text/html": "<div>\n<style scoped>\n    .dataframe tbody tr th:only-of-type {\n        vertical-align: middle;\n    }\n\n    .dataframe tbody tr th {\n        vertical-align: top;\n    }\n\n    .dataframe thead th {\n        text-align: right;\n    }\n</style>\n<table border=\"1\" class=\"dataframe\">\n  <thead>\n    <tr style=\"text-align: right;\">\n      <th></th>\n      <th>class</th>\n      <th>cap-shape</th>\n      <th>cap-surface</th>\n      <th>cap-color</th>\n      <th>bruises</th>\n      <th>odor</th>\n      <th>gill-attachment</th>\n      <th>gill-spacing</th>\n      <th>gill-size</th>\n      <th>gill-color</th>\n      <th>...</th>\n      <th>stalk-surface-below-ring</th>\n      <th>stalk-color-above-ring</th>\n      <th>stalk-color-below-ring</th>\n      <th>veil-type</th>\n      <th>veil-color</th>\n      <th>ring-number</th>\n      <th>ring-type</th>\n      <th>spore-print-color</th>\n      <th>population</th>\n      <th>habitat</th>\n    </tr>\n  </thead>\n  <tbody>\n    <tr>\n      <th>0</th>\n      <td>p</td>\n      <td>x</td>\n      <td>s</td>\n      <td>n</td>\n      <td>t</td>\n      <td>p</td>\n      <td>f</td>\n      <td>c</td>\n      <td>n</td>\n      <td>k</td>\n      <td>...</td>\n      <td>s</td>\n      <td>w</td>\n      <td>w</td>\n      <td>p</td>\n      <td>w</td>\n      <td>o</td>\n      <td>p</td>\n      <td>k</td>\n      <td>s</td>\n      <td>u</td>\n    </tr>\n    <tr>\n      <th>1</th>\n      <td>e</td>\n      <td>x</td>\n      <td>s</td>\n      <td>y</td>\n      <td>t</td>\n      <td>a</td>\n      <td>f</td>\n      <td>c</td>\n      <td>b</td>\n      <td>k</td>\n      <td>...</td>\n      <td>s</td>\n      <td>w</td>\n      <td>w</td>\n      <td>p</td>\n      <td>w</td>\n      <td>o</td>\n      <td>p</td>\n      <td>n</td>\n      <td>n</td>\n      <td>g</td>\n    </tr>\n    <tr>\n      <th>2</th>\n      <td>e</td>\n      <td>b</td>\n      <td>s</td>\n      <td>w</td>\n      <td>t</td>\n      <td>l</td>\n      <td>f</td>\n      <td>c</td>\n      <td>b</td>\n      <td>n</td>\n      <td>...</td>\n      <td>s</td>\n      <td>w</td>\n      <td>w</td>\n      <td>p</td>\n      <td>w</td>\n      <td>o</td>\n      <td>p</td>\n      <td>n</td>\n      <td>n</td>\n      <td>m</td>\n    </tr>\n    <tr>\n      <th>3</th>\n      <td>p</td>\n      <td>x</td>\n      <td>y</td>\n      <td>w</td>\n      <td>t</td>\n      <td>p</td>\n      <td>f</td>\n      <td>c</td>\n      <td>n</td>\n      <td>n</td>\n      <td>...</td>\n      <td>s</td>\n      <td>w</td>\n      <td>w</td>\n      <td>p</td>\n      <td>w</td>\n      <td>o</td>\n      <td>p</td>\n      <td>k</td>\n      <td>s</td>\n      <td>u</td>\n    </tr>\n    <tr>\n      <th>4</th>\n      <td>e</td>\n      <td>x</td>\n      <td>s</td>\n      <td>g</td>\n      <td>f</td>\n      <td>n</td>\n      <td>f</td>\n      <td>w</td>\n      <td>b</td>\n      <td>k</td>\n      <td>...</td>\n      <td>s</td>\n      <td>w</td>\n      <td>w</td>\n      <td>p</td>\n      <td>w</td>\n      <td>o</td>\n      <td>e</td>\n      <td>n</td>\n      <td>a</td>\n      <td>g</td>\n    </tr>\n    <tr>\n      <th>...</th>\n      <td>...</td>\n      <td>...</td>\n      <td>...</td>\n      <td>...</td>\n      <td>...</td>\n      <td>...</td>\n      <td>...</td>\n      <td>...</td>\n      <td>...</td>\n      <td>...</td>\n      <td>...</td>\n      <td>...</td>\n      <td>...</td>\n      <td>...</td>\n      <td>...</td>\n      <td>...</td>\n      <td>...</td>\n      <td>...</td>\n      <td>...</td>\n      <td>...</td>\n      <td>...</td>\n    </tr>\n    <tr>\n      <th>7986</th>\n      <td>e</td>\n      <td>b</td>\n      <td>y</td>\n      <td>n</td>\n      <td>f</td>\n      <td>n</td>\n      <td>f</td>\n      <td>c</td>\n      <td>b</td>\n      <td>w</td>\n      <td>...</td>\n      <td>y</td>\n      <td>n</td>\n      <td>n</td>\n      <td>p</td>\n      <td>w</td>\n      <td>t</td>\n      <td>p</td>\n      <td>w</td>\n      <td>y</td>\n      <td>p</td>\n    </tr>\n    <tr>\n      <th>8001</th>\n      <td>e</td>\n      <td>x</td>\n      <td>y</td>\n      <td>n</td>\n      <td>f</td>\n      <td>n</td>\n      <td>f</td>\n      <td>c</td>\n      <td>b</td>\n      <td>w</td>\n      <td>...</td>\n      <td>y</td>\n      <td>n</td>\n      <td>n</td>\n      <td>p</td>\n      <td>w</td>\n      <td>t</td>\n      <td>p</td>\n      <td>w</td>\n      <td>y</td>\n      <td>p</td>\n    </tr>\n    <tr>\n      <th>8038</th>\n      <td>e</td>\n      <td>x</td>\n      <td>y</td>\n      <td>g</td>\n      <td>t</td>\n      <td>n</td>\n      <td>f</td>\n      <td>c</td>\n      <td>b</td>\n      <td>w</td>\n      <td>...</td>\n      <td>s</td>\n      <td>w</td>\n      <td>w</td>\n      <td>p</td>\n      <td>w</td>\n      <td>t</td>\n      <td>p</td>\n      <td>w</td>\n      <td>y</td>\n      <td>p</td>\n    </tr>\n    <tr>\n      <th>8095</th>\n      <td>p</td>\n      <td>x</td>\n      <td>y</td>\n      <td>c</td>\n      <td>f</td>\n      <td>m</td>\n      <td>f</td>\n      <td>c</td>\n      <td>b</td>\n      <td>y</td>\n      <td>...</td>\n      <td>y</td>\n      <td>c</td>\n      <td>c</td>\n      <td>p</td>\n      <td>w</td>\n      <td>n</td>\n      <td>n</td>\n      <td>w</td>\n      <td>c</td>\n      <td>d</td>\n    </tr>\n    <tr>\n      <th>8114</th>\n      <td>p</td>\n      <td>f</td>\n      <td>y</td>\n      <td>c</td>\n      <td>f</td>\n      <td>m</td>\n      <td>a</td>\n      <td>c</td>\n      <td>b</td>\n      <td>y</td>\n      <td>...</td>\n      <td>y</td>\n      <td>c</td>\n      <td>c</td>\n      <td>p</td>\n      <td>w</td>\n      <td>n</td>\n      <td>n</td>\n      <td>w</td>\n      <td>c</td>\n      <td>d</td>\n    </tr>\n  </tbody>\n</table>\n<p>5644 rows × 23 columns</p>\n</div>"
     },
     "metadata": {},
     "execution_count": 2
    }
   ],
   "source": [
    "# read in mushrooms dataset\n",
    "data = pd.read_csv('mushrooms.csv')\n",
    "data = data[data['stalk-root'] != '?'] # drop rows with null values\n",
    "# data.drop('stalk-root', axis=1, inplace=True) # drop column with null values\n",
    "\n",
    "data"
   ]
  },
  {
   "cell_type": "code",
   "execution_count": 3,
   "metadata": {},
   "outputs": [],
   "source": [
    "# training/testing split\n",
    "from sklearn.model_selection import train_test_split\n",
    "from sklearn.svm import SVC\n",
    "from sklearn.metrics import classification_report, confusion_matrix"
   ]
  },
  {
   "cell_type": "code",
   "execution_count": 4,
   "metadata": {},
   "outputs": [],
   "source": [
    "def greedy_forward(data=data):\n",
    "    labels = data['class'].map({'p':0, 'e': 1})\n",
    "    features = data.drop('class', axis=1)\n",
    "    features = features.applymap(lambda x : (ord(x)-ord('a')))\n",
    "    attributes = features.columns\n",
    "    selected = []\n",
    "    min_error = (2.0, None)\n",
    "    last_min_error = (1.0, None)\n",
    "    # split data into training and test\n",
    "    train_features, test_features, train_labels, test_labels = train_test_split(features, labels, test_size = 0.20)\n",
    "    while last_min_error < min_error or len(features) == len(selected): # still improving\n",
    "        min_error = last_min_error\n",
    "        for attr in attributes:\n",
    "            temp = selected + [attr]\n",
    "            # compute error of SVM of selected + feat\n",
    "            # add min error to selected IFF it reduces total error\n",
    "            svclassifier = SVC(kernel='rbf')\n",
    "            svclassifier.fit(train_features[temp], train_labels)\n",
    "\n",
    "            label_pred = svclassifier.predict(test_features[temp])\n",
    "\n",
    "            c = confusion_matrix(test_labels, label_pred)\n",
    "            error = (c[0][1]+c[1][0])/np.sum(c)\n",
    "            \n",
    "            if error < last_min_error[0]:\n",
    "                last_min_error = (error, attr) \n",
    "            \n",
    "        # add to selected\n",
    "        if last_min_error[0] < min_error[0]:\n",
    "            selected.append(last_min_error[1])\n",
    "            attributes.drop(last_min_error[1])\n",
    "\n",
    "    return selected"
   ]
  },
  {
   "cell_type": "code",
   "execution_count": 5,
   "metadata": {},
   "outputs": [],
   "source": [
    "select = greedy_forward()"
   ]
  },
  {
   "cell_type": "code",
   "execution_count": 6,
   "metadata": {},
   "outputs": [
    {
     "output_type": "execute_result",
     "data": {
      "text/plain": [
       "['odor',\n",
       " 'spore-print-color',\n",
       " 'stalk-surface-below-ring',\n",
       " 'ring-number',\n",
       " 'population']"
      ]
     },
     "metadata": {},
     "execution_count": 6
    }
   ],
   "source": [
    "select"
   ]
  },
  {
   "cell_type": "code",
   "execution_count": 7,
   "metadata": {},
   "outputs": [
    {
     "output_type": "stream",
     "name": "stdout",
     "text": [
      "0.11160318866253321\n[[334  99]\n [ 27 669]]\n              precision    recall  f1-score   support\n\n           0       0.93      0.77      0.84       433\n           1       0.87      0.96      0.91       696\n\n    accuracy                           0.89      1129\n   macro avg       0.90      0.87      0.88      1129\nweighted avg       0.89      0.89      0.89      1129\n\n"
     ]
    }
   ],
   "source": [
    "# training/testing split\n",
    "labels = data['class'].map({'p':0, 'e': 1})\n",
    "features = data[select]\n",
    "features = features.applymap(lambda x : (ord(x)-ord('a')))\n",
    "\n",
    "train_features, test_features, train_labels, test_labels = train_test_split(features, labels, test_size = 0.20)\n",
    "\n",
    "svclassifier = SVC(kernel='poly', degree=1)\n",
    "svclassifier.fit(train_features, train_labels)\n",
    "\n",
    "label_pred = svclassifier.predict(test_features)\n",
    "\n",
    "c = confusion_matrix(test_labels, label_pred)\n",
    "error = (c[0][1]+c[1][0])/np.sum(c)\n",
    "print(error)\n",
    "print(c)\n",
    "print(classification_report(test_labels, label_pred))"
   ]
  },
  {
   "cell_type": "code",
   "execution_count": 8,
   "metadata": {},
   "outputs": [
    {
     "output_type": "stream",
     "name": "stdout",
     "text": [
      "0.0\n",
      "[[433   0]\n",
      " [  0 696]]\n",
      "              precision    recall  f1-score   support\n",
      "\n",
      "           0       1.00      1.00      1.00       433\n",
      "           1       1.00      1.00      1.00       696\n",
      "\n",
      "    accuracy                           1.00      1129\n",
      "   macro avg       1.00      1.00      1.00      1129\n",
      "weighted avg       1.00      1.00      1.00      1129\n",
      "\n"
     ]
    }
   ],
   "source": [
    "svclassifier = SVC(kernel='rbf')\n",
    "svclassifier.fit(train_features, train_labels)\n",
    "\n",
    "label_pred = svclassifier.predict(test_features)\n",
    "\n",
    "c = confusion_matrix(test_labels, label_pred)\n",
    "error = (c[0][1]+c[1][0])/np.sum(c)\n",
    "print(error)\n",
    "print(c)\n",
    "print(classification_report(test_labels, label_pred))"
   ]
  },
  {
   "cell_type": "code",
   "execution_count": null,
   "metadata": {},
   "outputs": [],
   "source": []
  }
 ]
}