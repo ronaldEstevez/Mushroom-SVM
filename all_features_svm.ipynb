{
 "metadata": {
  "language_info": {
   "codemirror_mode": {
    "name": "ipython",
    "version": 3
   },
   "file_extension": ".py",
   "mimetype": "text/x-python",
   "name": "python",
   "nbconvert_exporter": "python",
   "pygments_lexer": "ipython3",
   "version": "3.8.2-final"
  },
  "orig_nbformat": 2,
  "kernelspec": {
   "name": "python38264bitd8f3ef187eea49fdb788ec07ab3ef776",
   "display_name": "Python 3.8.2 64-bit",
   "language": "python"
  }
 },
 "nbformat": 4,
 "nbformat_minor": 2,
 "cells": [
  {
   "cell_type": "code",
   "execution_count": 1,
   "metadata": {},
   "outputs": [],
   "source": [
    "import pandas as pd\n",
    "import numpy as np"
   ]
  },
  {
   "cell_type": "code",
   "execution_count": 2,
   "metadata": {},
   "outputs": [
    {
     "output_type": "execute_result",
     "data": {
      "text/plain": [
       "     class cap-shape cap-surface cap-color bruises odor gill-attachment  \\\n",
       "0        p         x           s         n       t    p               f   \n",
       "1        e         x           s         y       t    a               f   \n",
       "2        e         b           s         w       t    l               f   \n",
       "3        p         x           y         w       t    p               f   \n",
       "4        e         x           s         g       f    n               f   \n",
       "...    ...       ...         ...       ...     ...  ...             ...   \n",
       "8119     e         k           s         n       f    n               a   \n",
       "8120     e         x           s         n       f    n               a   \n",
       "8121     e         f           s         n       f    n               a   \n",
       "8122     p         k           y         n       f    y               f   \n",
       "8123     e         x           s         n       f    n               a   \n",
       "\n",
       "     gill-spacing gill-size gill-color  ... stalk-surface-below-ring  \\\n",
       "0               c         n          k  ...                        s   \n",
       "1               c         b          k  ...                        s   \n",
       "2               c         b          n  ...                        s   \n",
       "3               c         n          n  ...                        s   \n",
       "4               w         b          k  ...                        s   \n",
       "...           ...       ...        ...  ...                      ...   \n",
       "8119            c         b          y  ...                        s   \n",
       "8120            c         b          y  ...                        s   \n",
       "8121            c         b          n  ...                        s   \n",
       "8122            c         n          b  ...                        k   \n",
       "8123            c         b          y  ...                        s   \n",
       "\n",
       "     stalk-color-above-ring stalk-color-below-ring veil-type veil-color  \\\n",
       "0                         w                      w         p          w   \n",
       "1                         w                      w         p          w   \n",
       "2                         w                      w         p          w   \n",
       "3                         w                      w         p          w   \n",
       "4                         w                      w         p          w   \n",
       "...                     ...                    ...       ...        ...   \n",
       "8119                      o                      o         p          o   \n",
       "8120                      o                      o         p          n   \n",
       "8121                      o                      o         p          o   \n",
       "8122                      w                      w         p          w   \n",
       "8123                      o                      o         p          o   \n",
       "\n",
       "     ring-number ring-type spore-print-color population habitat  \n",
       "0              o         p                 k          s       u  \n",
       "1              o         p                 n          n       g  \n",
       "2              o         p                 n          n       m  \n",
       "3              o         p                 k          s       u  \n",
       "4              o         e                 n          a       g  \n",
       "...          ...       ...               ...        ...     ...  \n",
       "8119           o         p                 b          c       l  \n",
       "8120           o         p                 b          v       l  \n",
       "8121           o         p                 b          c       l  \n",
       "8122           o         e                 w          v       l  \n",
       "8123           o         p                 o          c       l  \n",
       "\n",
       "[8124 rows x 22 columns]"
      ],
      "text/html": "<div>\n<style scoped>\n    .dataframe tbody tr th:only-of-type {\n        vertical-align: middle;\n    }\n\n    .dataframe tbody tr th {\n        vertical-align: top;\n    }\n\n    .dataframe thead th {\n        text-align: right;\n    }\n</style>\n<table border=\"1\" class=\"dataframe\">\n  <thead>\n    <tr style=\"text-align: right;\">\n      <th></th>\n      <th>class</th>\n      <th>cap-shape</th>\n      <th>cap-surface</th>\n      <th>cap-color</th>\n      <th>bruises</th>\n      <th>odor</th>\n      <th>gill-attachment</th>\n      <th>gill-spacing</th>\n      <th>gill-size</th>\n      <th>gill-color</th>\n      <th>...</th>\n      <th>stalk-surface-below-ring</th>\n      <th>stalk-color-above-ring</th>\n      <th>stalk-color-below-ring</th>\n      <th>veil-type</th>\n      <th>veil-color</th>\n      <th>ring-number</th>\n      <th>ring-type</th>\n      <th>spore-print-color</th>\n      <th>population</th>\n      <th>habitat</th>\n    </tr>\n  </thead>\n  <tbody>\n    <tr>\n      <th>0</th>\n      <td>p</td>\n      <td>x</td>\n      <td>s</td>\n      <td>n</td>\n      <td>t</td>\n      <td>p</td>\n      <td>f</td>\n      <td>c</td>\n      <td>n</td>\n      <td>k</td>\n      <td>...</td>\n      <td>s</td>\n      <td>w</td>\n      <td>w</td>\n      <td>p</td>\n      <td>w</td>\n      <td>o</td>\n      <td>p</td>\n      <td>k</td>\n      <td>s</td>\n      <td>u</td>\n    </tr>\n    <tr>\n      <th>1</th>\n      <td>e</td>\n      <td>x</td>\n      <td>s</td>\n      <td>y</td>\n      <td>t</td>\n      <td>a</td>\n      <td>f</td>\n      <td>c</td>\n      <td>b</td>\n      <td>k</td>\n      <td>...</td>\n      <td>s</td>\n      <td>w</td>\n      <td>w</td>\n      <td>p</td>\n      <td>w</td>\n      <td>o</td>\n      <td>p</td>\n      <td>n</td>\n      <td>n</td>\n      <td>g</td>\n    </tr>\n    <tr>\n      <th>2</th>\n      <td>e</td>\n      <td>b</td>\n      <td>s</td>\n      <td>w</td>\n      <td>t</td>\n      <td>l</td>\n      <td>f</td>\n      <td>c</td>\n      <td>b</td>\n      <td>n</td>\n      <td>...</td>\n      <td>s</td>\n      <td>w</td>\n      <td>w</td>\n      <td>p</td>\n      <td>w</td>\n      <td>o</td>\n      <td>p</td>\n      <td>n</td>\n      <td>n</td>\n      <td>m</td>\n    </tr>\n    <tr>\n      <th>3</th>\n      <td>p</td>\n      <td>x</td>\n      <td>y</td>\n      <td>w</td>\n      <td>t</td>\n      <td>p</td>\n      <td>f</td>\n      <td>c</td>\n      <td>n</td>\n      <td>n</td>\n      <td>...</td>\n      <td>s</td>\n      <td>w</td>\n      <td>w</td>\n      <td>p</td>\n      <td>w</td>\n      <td>o</td>\n      <td>p</td>\n      <td>k</td>\n      <td>s</td>\n      <td>u</td>\n    </tr>\n    <tr>\n      <th>4</th>\n      <td>e</td>\n      <td>x</td>\n      <td>s</td>\n      <td>g</td>\n      <td>f</td>\n      <td>n</td>\n      <td>f</td>\n      <td>w</td>\n      <td>b</td>\n      <td>k</td>\n      <td>...</td>\n      <td>s</td>\n      <td>w</td>\n      <td>w</td>\n      <td>p</td>\n      <td>w</td>\n      <td>o</td>\n      <td>e</td>\n      <td>n</td>\n      <td>a</td>\n      <td>g</td>\n    </tr>\n    <tr>\n      <th>...</th>\n      <td>...</td>\n      <td>...</td>\n      <td>...</td>\n      <td>...</td>\n      <td>...</td>\n      <td>...</td>\n      <td>...</td>\n      <td>...</td>\n      <td>...</td>\n      <td>...</td>\n      <td>...</td>\n      <td>...</td>\n      <td>...</td>\n      <td>...</td>\n      <td>...</td>\n      <td>...</td>\n      <td>...</td>\n      <td>...</td>\n      <td>...</td>\n      <td>...</td>\n      <td>...</td>\n    </tr>\n    <tr>\n      <th>8119</th>\n      <td>e</td>\n      <td>k</td>\n      <td>s</td>\n      <td>n</td>\n      <td>f</td>\n      <td>n</td>\n      <td>a</td>\n      <td>c</td>\n      <td>b</td>\n      <td>y</td>\n      <td>...</td>\n      <td>s</td>\n      <td>o</td>\n      <td>o</td>\n      <td>p</td>\n      <td>o</td>\n      <td>o</td>\n      <td>p</td>\n      <td>b</td>\n      <td>c</td>\n      <td>l</td>\n    </tr>\n    <tr>\n      <th>8120</th>\n      <td>e</td>\n      <td>x</td>\n      <td>s</td>\n      <td>n</td>\n      <td>f</td>\n      <td>n</td>\n      <td>a</td>\n      <td>c</td>\n      <td>b</td>\n      <td>y</td>\n      <td>...</td>\n      <td>s</td>\n      <td>o</td>\n      <td>o</td>\n      <td>p</td>\n      <td>n</td>\n      <td>o</td>\n      <td>p</td>\n      <td>b</td>\n      <td>v</td>\n      <td>l</td>\n    </tr>\n    <tr>\n      <th>8121</th>\n      <td>e</td>\n      <td>f</td>\n      <td>s</td>\n      <td>n</td>\n      <td>f</td>\n      <td>n</td>\n      <td>a</td>\n      <td>c</td>\n      <td>b</td>\n      <td>n</td>\n      <td>...</td>\n      <td>s</td>\n      <td>o</td>\n      <td>o</td>\n      <td>p</td>\n      <td>o</td>\n      <td>o</td>\n      <td>p</td>\n      <td>b</td>\n      <td>c</td>\n      <td>l</td>\n    </tr>\n    <tr>\n      <th>8122</th>\n      <td>p</td>\n      <td>k</td>\n      <td>y</td>\n      <td>n</td>\n      <td>f</td>\n      <td>y</td>\n      <td>f</td>\n      <td>c</td>\n      <td>n</td>\n      <td>b</td>\n      <td>...</td>\n      <td>k</td>\n      <td>w</td>\n      <td>w</td>\n      <td>p</td>\n      <td>w</td>\n      <td>o</td>\n      <td>e</td>\n      <td>w</td>\n      <td>v</td>\n      <td>l</td>\n    </tr>\n    <tr>\n      <th>8123</th>\n      <td>e</td>\n      <td>x</td>\n      <td>s</td>\n      <td>n</td>\n      <td>f</td>\n      <td>n</td>\n      <td>a</td>\n      <td>c</td>\n      <td>b</td>\n      <td>y</td>\n      <td>...</td>\n      <td>s</td>\n      <td>o</td>\n      <td>o</td>\n      <td>p</td>\n      <td>o</td>\n      <td>o</td>\n      <td>p</td>\n      <td>o</td>\n      <td>c</td>\n      <td>l</td>\n    </tr>\n  </tbody>\n</table>\n<p>8124 rows × 22 columns</p>\n</div>"
     },
     "metadata": {},
     "execution_count": 2
    }
   ],
   "source": [
    "# read in mushrooms dataset\n",
    "data = pd.read_csv('mushrooms.csv')\n",
    "# data = data[data['stalk-root'] != '?'] # drop null values\n",
    "data.drop('stalk-root', axis=1, inplace=True)\n",
    "data"
   ]
  },
  {
   "cell_type": "code",
   "execution_count": 3,
   "metadata": {},
   "outputs": [
    {
     "output_type": "execute_result",
     "data": {
      "text/plain": [
       "0       0\n",
       "1       1\n",
       "2       1\n",
       "3       0\n",
       "4       1\n",
       "       ..\n",
       "8119    1\n",
       "8120    1\n",
       "8121    1\n",
       "8122    0\n",
       "8123    1\n",
       "Name: class, Length: 8124, dtype: int64"
      ]
     },
     "metadata": {},
     "execution_count": 3
    }
   ],
   "source": [
    "# separate labels and encode (poisonous = 0, edible = 1)\n",
    "labels = data['class'].map({'p':0, 'e': 1})\n",
    "\n",
    "labels"
   ]
  },
  {
   "cell_type": "code",
   "execution_count": 4,
   "metadata": {},
   "outputs": [
    {
     "output_type": "execute_result",
     "data": {
      "text/plain": [
       "      cap-shape  cap-surface  cap-color  bruises  odor  gill-attachment  \\\n",
       "0            23           18         13       19    15                5   \n",
       "1            23           18         24       19     0                5   \n",
       "2             1           18         22       19    11                5   \n",
       "3            23           24         22       19    15                5   \n",
       "4            23           18          6        5    13                5   \n",
       "...         ...          ...        ...      ...   ...              ...   \n",
       "8119         10           18         13        5    13                0   \n",
       "8120         23           18         13        5    13                0   \n",
       "8121          5           18         13        5    13                0   \n",
       "8122         10           24         13        5    24                5   \n",
       "8123         23           18         13        5    13                0   \n",
       "\n",
       "      gill-spacing  gill-size  gill-color  stalk-shape  ...  \\\n",
       "0                2         13          10            4  ...   \n",
       "1                2          1          10            4  ...   \n",
       "2                2          1          13            4  ...   \n",
       "3                2         13          13            4  ...   \n",
       "4               22          1          10           19  ...   \n",
       "...            ...        ...         ...          ...  ...   \n",
       "8119             2          1          24            4  ...   \n",
       "8120             2          1          24            4  ...   \n",
       "8121             2          1          13            4  ...   \n",
       "8122             2         13           1           19  ...   \n",
       "8123             2          1          24            4  ...   \n",
       "\n",
       "      stalk-surface-below-ring  stalk-color-above-ring  \\\n",
       "0                           18                      22   \n",
       "1                           18                      22   \n",
       "2                           18                      22   \n",
       "3                           18                      22   \n",
       "4                           18                      22   \n",
       "...                        ...                     ...   \n",
       "8119                        18                      14   \n",
       "8120                        18                      14   \n",
       "8121                        18                      14   \n",
       "8122                        10                      22   \n",
       "8123                        18                      14   \n",
       "\n",
       "      stalk-color-below-ring  veil-type  veil-color  ring-number  ring-type  \\\n",
       "0                         22         15          22           14         15   \n",
       "1                         22         15          22           14         15   \n",
       "2                         22         15          22           14         15   \n",
       "3                         22         15          22           14         15   \n",
       "4                         22         15          22           14          4   \n",
       "...                      ...        ...         ...          ...        ...   \n",
       "8119                      14         15          14           14         15   \n",
       "8120                      14         15          13           14         15   \n",
       "8121                      14         15          14           14         15   \n",
       "8122                      22         15          22           14          4   \n",
       "8123                      14         15          14           14         15   \n",
       "\n",
       "      spore-print-color  population  habitat  \n",
       "0                    10          18       20  \n",
       "1                    13          13        6  \n",
       "2                    13          13       12  \n",
       "3                    10          18       20  \n",
       "4                    13           0        6  \n",
       "...                 ...         ...      ...  \n",
       "8119                  1           2       11  \n",
       "8120                  1          21       11  \n",
       "8121                  1           2       11  \n",
       "8122                 22          21       11  \n",
       "8123                 14           2       11  \n",
       "\n",
       "[8124 rows x 21 columns]"
      ],
      "text/html": "<div>\n<style scoped>\n    .dataframe tbody tr th:only-of-type {\n        vertical-align: middle;\n    }\n\n    .dataframe tbody tr th {\n        vertical-align: top;\n    }\n\n    .dataframe thead th {\n        text-align: right;\n    }\n</style>\n<table border=\"1\" class=\"dataframe\">\n  <thead>\n    <tr style=\"text-align: right;\">\n      <th></th>\n      <th>cap-shape</th>\n      <th>cap-surface</th>\n      <th>cap-color</th>\n      <th>bruises</th>\n      <th>odor</th>\n      <th>gill-attachment</th>\n      <th>gill-spacing</th>\n      <th>gill-size</th>\n      <th>gill-color</th>\n      <th>stalk-shape</th>\n      <th>...</th>\n      <th>stalk-surface-below-ring</th>\n      <th>stalk-color-above-ring</th>\n      <th>stalk-color-below-ring</th>\n      <th>veil-type</th>\n      <th>veil-color</th>\n      <th>ring-number</th>\n      <th>ring-type</th>\n      <th>spore-print-color</th>\n      <th>population</th>\n      <th>habitat</th>\n    </tr>\n  </thead>\n  <tbody>\n    <tr>\n      <th>0</th>\n      <td>23</td>\n      <td>18</td>\n      <td>13</td>\n      <td>19</td>\n      <td>15</td>\n      <td>5</td>\n      <td>2</td>\n      <td>13</td>\n      <td>10</td>\n      <td>4</td>\n      <td>...</td>\n      <td>18</td>\n      <td>22</td>\n      <td>22</td>\n      <td>15</td>\n      <td>22</td>\n      <td>14</td>\n      <td>15</td>\n      <td>10</td>\n      <td>18</td>\n      <td>20</td>\n    </tr>\n    <tr>\n      <th>1</th>\n      <td>23</td>\n      <td>18</td>\n      <td>24</td>\n      <td>19</td>\n      <td>0</td>\n      <td>5</td>\n      <td>2</td>\n      <td>1</td>\n      <td>10</td>\n      <td>4</td>\n      <td>...</td>\n      <td>18</td>\n      <td>22</td>\n      <td>22</td>\n      <td>15</td>\n      <td>22</td>\n      <td>14</td>\n      <td>15</td>\n      <td>13</td>\n      <td>13</td>\n      <td>6</td>\n    </tr>\n    <tr>\n      <th>2</th>\n      <td>1</td>\n      <td>18</td>\n      <td>22</td>\n      <td>19</td>\n      <td>11</td>\n      <td>5</td>\n      <td>2</td>\n      <td>1</td>\n      <td>13</td>\n      <td>4</td>\n      <td>...</td>\n      <td>18</td>\n      <td>22</td>\n      <td>22</td>\n      <td>15</td>\n      <td>22</td>\n      <td>14</td>\n      <td>15</td>\n      <td>13</td>\n      <td>13</td>\n      <td>12</td>\n    </tr>\n    <tr>\n      <th>3</th>\n      <td>23</td>\n      <td>24</td>\n      <td>22</td>\n      <td>19</td>\n      <td>15</td>\n      <td>5</td>\n      <td>2</td>\n      <td>13</td>\n      <td>13</td>\n      <td>4</td>\n      <td>...</td>\n      <td>18</td>\n      <td>22</td>\n      <td>22</td>\n      <td>15</td>\n      <td>22</td>\n      <td>14</td>\n      <td>15</td>\n      <td>10</td>\n      <td>18</td>\n      <td>20</td>\n    </tr>\n    <tr>\n      <th>4</th>\n      <td>23</td>\n      <td>18</td>\n      <td>6</td>\n      <td>5</td>\n      <td>13</td>\n      <td>5</td>\n      <td>22</td>\n      <td>1</td>\n      <td>10</td>\n      <td>19</td>\n      <td>...</td>\n      <td>18</td>\n      <td>22</td>\n      <td>22</td>\n      <td>15</td>\n      <td>22</td>\n      <td>14</td>\n      <td>4</td>\n      <td>13</td>\n      <td>0</td>\n      <td>6</td>\n    </tr>\n    <tr>\n      <th>...</th>\n      <td>...</td>\n      <td>...</td>\n      <td>...</td>\n      <td>...</td>\n      <td>...</td>\n      <td>...</td>\n      <td>...</td>\n      <td>...</td>\n      <td>...</td>\n      <td>...</td>\n      <td>...</td>\n      <td>...</td>\n      <td>...</td>\n      <td>...</td>\n      <td>...</td>\n      <td>...</td>\n      <td>...</td>\n      <td>...</td>\n      <td>...</td>\n      <td>...</td>\n      <td>...</td>\n    </tr>\n    <tr>\n      <th>8119</th>\n      <td>10</td>\n      <td>18</td>\n      <td>13</td>\n      <td>5</td>\n      <td>13</td>\n      <td>0</td>\n      <td>2</td>\n      <td>1</td>\n      <td>24</td>\n      <td>4</td>\n      <td>...</td>\n      <td>18</td>\n      <td>14</td>\n      <td>14</td>\n      <td>15</td>\n      <td>14</td>\n      <td>14</td>\n      <td>15</td>\n      <td>1</td>\n      <td>2</td>\n      <td>11</td>\n    </tr>\n    <tr>\n      <th>8120</th>\n      <td>23</td>\n      <td>18</td>\n      <td>13</td>\n      <td>5</td>\n      <td>13</td>\n      <td>0</td>\n      <td>2</td>\n      <td>1</td>\n      <td>24</td>\n      <td>4</td>\n      <td>...</td>\n      <td>18</td>\n      <td>14</td>\n      <td>14</td>\n      <td>15</td>\n      <td>13</td>\n      <td>14</td>\n      <td>15</td>\n      <td>1</td>\n      <td>21</td>\n      <td>11</td>\n    </tr>\n    <tr>\n      <th>8121</th>\n      <td>5</td>\n      <td>18</td>\n      <td>13</td>\n      <td>5</td>\n      <td>13</td>\n      <td>0</td>\n      <td>2</td>\n      <td>1</td>\n      <td>13</td>\n      <td>4</td>\n      <td>...</td>\n      <td>18</td>\n      <td>14</td>\n      <td>14</td>\n      <td>15</td>\n      <td>14</td>\n      <td>14</td>\n      <td>15</td>\n      <td>1</td>\n      <td>2</td>\n      <td>11</td>\n    </tr>\n    <tr>\n      <th>8122</th>\n      <td>10</td>\n      <td>24</td>\n      <td>13</td>\n      <td>5</td>\n      <td>24</td>\n      <td>5</td>\n      <td>2</td>\n      <td>13</td>\n      <td>1</td>\n      <td>19</td>\n      <td>...</td>\n      <td>10</td>\n      <td>22</td>\n      <td>22</td>\n      <td>15</td>\n      <td>22</td>\n      <td>14</td>\n      <td>4</td>\n      <td>22</td>\n      <td>21</td>\n      <td>11</td>\n    </tr>\n    <tr>\n      <th>8123</th>\n      <td>23</td>\n      <td>18</td>\n      <td>13</td>\n      <td>5</td>\n      <td>13</td>\n      <td>0</td>\n      <td>2</td>\n      <td>1</td>\n      <td>24</td>\n      <td>4</td>\n      <td>...</td>\n      <td>18</td>\n      <td>14</td>\n      <td>14</td>\n      <td>15</td>\n      <td>14</td>\n      <td>14</td>\n      <td>15</td>\n      <td>14</td>\n      <td>2</td>\n      <td>11</td>\n    </tr>\n  </tbody>\n</table>\n<p>8124 rows × 21 columns</p>\n</div>"
     },
     "metadata": {},
     "execution_count": 4
    }
   ],
   "source": [
    "# separate labels and encode (labels are labels converted to unicode-97)\n",
    "\n",
    "features = data.iloc[:, 1:]\n",
    "features = features.applymap(lambda x : (ord(x)-ord('a')))\n",
    "features\n"
   ]
  },
  {
   "cell_type": "code",
   "execution_count": 5,
   "metadata": {},
   "outputs": [
    {
     "output_type": "stream",
     "name": "stdout",
     "text": [
      "0.0\n[[766   0]\n [  0 859]]\n              precision    recall  f1-score   support\n\n           0       1.00      1.00      1.00       766\n           1       1.00      1.00      1.00       859\n\n    accuracy                           1.00      1625\n   macro avg       1.00      1.00      1.00      1625\nweighted avg       1.00      1.00      1.00      1625\n\n"
     ]
    }
   ],
   "source": [
    "# training/testing split\n",
    "from sklearn.model_selection import train_test_split\n",
    "from sklearn.svm import SVC\n",
    "from sklearn.metrics import classification_report, confusion_matrix\n",
    "\n",
    "train_features, test_features, train_labels, test_labels = train_test_split(features, labels, test_size = 0.20)\n",
    "\n",
    "svclassifier = SVC(kernel='poly', degree=2)\n",
    "svclassifier.fit(train_features, train_labels)\n",
    "\n",
    "label_pred = svclassifier.predict(test_features)\n",
    "\n",
    "c = confusion_matrix(test_labels, label_pred)\n",
    "error = (c[0][1]+c[1][0])/np.sum(c)\n",
    "print(error)\n",
    "print(c)\n",
    "print(classification_report(test_labels, label_pred))"
   ]
  },
  {
   "cell_type": "code",
   "execution_count": 6,
   "metadata": {},
   "outputs": [
    {
     "output_type": "stream",
     "name": "stdout",
     "text": [
      "0.0012307692307692308\n[[766   0]\n [  2 857]]\n              precision    recall  f1-score   support\n\n           0       1.00      1.00      1.00       766\n           1       1.00      1.00      1.00       859\n\n    accuracy                           1.00      1625\n   macro avg       1.00      1.00      1.00      1625\nweighted avg       1.00      1.00      1.00      1625\n\n"
     ]
    }
   ],
   "source": [
    "svclassifier = SVC(kernel='rbf')\n",
    "svclassifier.fit(train_features, train_labels)\n",
    "\n",
    "label_pred = svclassifier.predict(test_features)\n",
    "\n",
    "c = confusion_matrix(test_labels, label_pred)\n",
    "error = (c[0][1]+c[1][0])/np.sum(c)\n",
    "print(error)\n",
    "print(c)\n",
    "print(classification_report(test_labels, label_pred))"
   ]
  }
 ]
}